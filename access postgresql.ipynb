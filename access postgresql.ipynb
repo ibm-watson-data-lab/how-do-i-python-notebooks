{
    "metadata": {
        "kernelspec": {
            "language": "python", 
            "display_name": "Python 2 with Spark 2.1", 
            "name": "python2-spark21"
        }, 
        "language_info": {
            "codemirror_mode": {
                "version": 2, 
                "name": "ipython"
            }, 
            "version": "2.7.11", 
            "name": "python", 
            "nbconvert_exporter": "python", 
            "mimetype": "text/x-python", 
            "pygments_lexer": "ipython2", 
            "file_extension": ".py"
        }
    }, 
    "nbformat_minor": 1, 
    "cells": [
        {
            "metadata": {}, 
            "cell_type": "markdown", 
            "source": "### Connecting to PostgreSQL"
        }, 
        {
            "execution_count": null, 
            "outputs": [], 
            "cell_type": "code", 
            "source": "# install http://initd.org/psycopg/\n#!pip install psycopg2", 
            "metadata": {}
        }, 
        {
            "execution_count": null, 
            "outputs": [], 
            "cell_type": "code", 
            "source": "import psycopg2", 
            "metadata": {
                "collapsed": true
            }
        }, 
        {
            "execution_count": null, 
            "outputs": [], 
            "cell_type": "code", 
            "source": "# TODO:\n# (1) add a PostgreSQL connection to this project\n# (2) use \"insert to code\" to insert database connection credentials into this cell\n# (3) rename the \"credentials_X\" variable to \"credentials\"\n", 
            "metadata": {
                "collapsed": true
            }
        }, 
        {
            "execution_count": null, 
            "outputs": [], 
            "cell_type": "code", 
            "source": "# compose connection string\nconnstr = \"dbname='{}' user='{}' host='{}' port='{}' password='{}'\".format(\n    credentials['database'],\n    credentials['username'],\n    credentials['host'],\n    credentials['port'],\n    credentials['password'])\n\n# display connection string\nconnstr", 
            "metadata": {}
        }, 
        {
            "execution_count": null, 
            "outputs": [], 
            "cell_type": "code", 
            "source": "# try to connect\ntry:\n    conn = psycopg2.connect(connstr)\n    print \"Connection: OK\"\nexcept Exception as e:\n    print \"Connection: ERROR - {}\".format(e)", 
            "metadata": {}
        }, 
        {
            "execution_count": null, 
            "outputs": [], 
            "cell_type": "code", 
            "source": "# Open a cursor to perform database operations\ncur = conn.cursor()\n# list databases\ncur.execute(\"\"\"SELECT datname from pg_database\"\"\")\nrows = cur.fetchall()\nfor row in rows:\n    print \"   \", row[0]", 
            "metadata": {}
        }
    ], 
    "nbformat": 4
}