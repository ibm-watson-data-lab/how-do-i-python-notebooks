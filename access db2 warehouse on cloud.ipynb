{
    "metadata": {
        "kernelspec": {
            "language": "python", 
            "display_name": "Python 2 with Spark 2.1", 
            "name": "python2-spark21"
        }, 
        "language_info": {
            "codemirror_mode": {
                "version": 2, 
                "name": "ipython"
            }, 
            "version": "2.7.11", 
            "name": "python", 
            "nbconvert_exporter": "python", 
            "mimetype": "text/x-python", 
            "pygments_lexer": "ipython2", 
            "file_extension": ".py"
        }
    }, 
    "nbformat_minor": 1, 
    "cells": [
        {
            "metadata": {}, 
            "cell_type": "markdown", 
            "source": "### Connecting to Db2 Warehouse on Cloud"
        }, 
        {
            "execution_count": null, 
            "outputs": [], 
            "cell_type": "code", 
            "source": "# install https://pypi.python.org/pypi/ibm_db/\n#!pip install ibm_db", 
            "metadata": {}
        }, 
        {
            "execution_count": null, 
            "outputs": [], 
            "cell_type": "code", 
            "source": "# https://github.com/ibmdb/python-ibmdb/wiki/APIs#ibm_dbconnect\nimport ibm_db", 
            "metadata": {}
        }, 
        {
            "execution_count": null, 
            "outputs": [], 
            "cell_type": "code", 
            "source": "# TODO:\n# (1) add a Db2 Warehouse connection to this project\n# (2) use \"insert to code\" to insert database connection credentials into this cell\n# (3) rename the \"credentials_X\" variable to \"credentials\"\n# @hidden_cell\n", 
            "metadata": {
                "collapsed": true
            }
        }, 
        {
            "execution_count": null, 
            "outputs": [], 
            "cell_type": "code", 
            "source": "# compose connection string\nconnstr = \"HOSTNAME={};PORT={};DATABASE={};UID={};PWD={};PROTOCOL=TCPIP;SECURITY=SSL;\".format(\n    credentials['host'],\n    50001,\n    credentials['database'],\n    credentials['username'],\n    credentials['password'])\n\n# display connection string\nconnstr", 
            "metadata": {}
        }, 
        {
            "execution_count": null, 
            "outputs": [], 
            "cell_type": "code", 
            "source": "# try to connect\ntry:\n    conn = ibm_db.connect(connstr,'','')\n    print \"Connection: OK\"\nexcept Exception as e:\n    print \"Connection: ERROR - {}\".format(e)", 
            "metadata": {}
        }, 
        {
            "execution_count": null, 
            "outputs": [], 
            "cell_type": "code", 
            "source": "# run a SQL statement\ntry:\n    \n    stmt = ibm_db.exec_immediate(conn, 'SELECT COUNT(*) AS TAB_COUNT FROM SYSCAT.TABLES')\n    if stmt:\n        tuple = ibm_db.fetch_tuple(stmt)\n        if tuple:\n            print tuple[0]\nexcept Exception as e:\n    print \"Query: ERROR - {}\".format(e)  ", 
            "metadata": {}
        }
    ], 
    "nbformat": 4
}