{
    "nbformat_minor": 1, 
    "cells": [
        {
            "cell_type": "markdown", 
            "metadata": {}, 
            "source": "### Connecting to Db2 Warehouse on Cloud"
        }, 
        {
            "outputs": [], 
            "cell_type": "code", 
            "metadata": {}, 
            "source": "# install https://pypi.python.org/pypi/ibm_db/\n!pip install ibm_db", 
            "execution_count": null
        }, 
        {
            "outputs": [], 
            "cell_type": "code", 
            "metadata": {}, 
            "source": "# https://github.com/ibmdb/python-ibmdb/wiki/APIs#ibm_dbconnect\nimport ibm_db", 
            "execution_count": null
        }, 
        {
            "outputs": [], 
            "cell_type": "code", 
            "metadata": {
                "collapsed": true
            }, 
            "source": "# TODO:\n# (1) add a Db2 Warehouse connection to this project\n# (2) use \"insert to code\" to insert database connection credentials into this cell\n# (3) rename the \"credentials_X\" variable to \"credentials\"\n# @hidden_cell\n", 
            "execution_count": null
        }, 
        {
            "outputs": [], 
            "cell_type": "code", 
            "metadata": {}, 
            "source": "# compose connection string\nconnstr = \"HOSTNAME={};PORT={};DATABASE={};UID={};PWD={};PROTOCOL=TCPIP;SECURITY=SSL;\".format(\n    credentials['host'],\n    50001,\n    credentials['database'],\n    credentials['username'],\n    credentials['password'])\n\n# display connection string\nconnstr", 
            "execution_count": null
        }, 
        {
            "outputs": [], 
            "cell_type": "code", 
            "metadata": {}, 
            "source": "# try to connect\ntry:\n    conn = ibm_db.connect(connstr,'','')\n    print \"Connection: OK\"\nexcept Exception as e:\n    print \"Connection: ERROR - {}\".format(e)", 
            "execution_count": null
        }, 
        {
            "outputs": [], 
            "cell_type": "code", 
            "metadata": {}, 
            "source": "# run a SQL statement\ntry:\n    \n    stmt = ibm_db.exec_immediate(conn, 'SELECT COUNT(*) AS TAB_COUNT FROM SYSCAT.TABLES')\n    if stmt:\n        tuple = ibm_db.fetch_tuple(stmt)\n        if tuple:\n            print tuple[0]\nexcept Exception as e:\n    print \"Query: ERROR - {}\".format(e)  ", 
            "execution_count": null
        }
    ], 
    "metadata": {
        "kernelspec": {
            "display_name": "Python 2 with Spark 2.1", 
            "name": "python2-spark21", 
            "language": "python"
        }, 
        "language_info": {
            "nbconvert_exporter": "python", 
            "file_extension": ".py", 
            "version": "2.7.11", 
            "name": "python", 
            "mimetype": "text/x-python", 
            "codemirror_mode": {
                "name": "ipython", 
                "version": 2
            }, 
            "pygments_lexer": "ipython2"
        }
    }, 
    "nbformat": 4
}