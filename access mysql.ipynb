{
    "metadata": {
        "kernelspec": {
            "language": "python", 
            "display_name": "Python 2 with Spark 2.1", 
            "name": "python2-spark21"
        }, 
        "language_info": {
            "codemirror_mode": {
                "version": 2, 
                "name": "ipython"
            }, 
            "version": "2.7.11", 
            "name": "python", 
            "nbconvert_exporter": "python", 
            "mimetype": "text/x-python", 
            "pygments_lexer": "ipython2", 
            "file_extension": ".py"
        }
    }, 
    "nbformat_minor": 1, 
    "cells": [
        {
            "metadata": {}, 
            "cell_type": "markdown", 
            "source": "### Connecting to MySQL "
        }, 
        {
            "execution_count": null, 
            "outputs": [], 
            "cell_type": "code", 
            "source": "# install https://pypi.python.org/pypi/PyMySQL\n#!pip install  PyMySQL", 
            "metadata": {}
        }, 
        {
            "execution_count": null, 
            "outputs": [], 
            "cell_type": "code", 
            "source": "# https://github.com/PyMySQL/PyMySQL\n# http://pymysql.readthedocs.io/en/latest/\nimport pymysql", 
            "metadata": {}
        }, 
        {
            "execution_count": null, 
            "outputs": [], 
            "cell_type": "code", 
            "source": "# TODO:\n# (1) add a MYSQL connection to this project\n# (2) use \"insert to code\" to insert database connection credentials into this cell\n# (3) rename the \"credentials_X\" variable to \"credentials\"\n# @hidden_cell\n", 
            "metadata": {
                "collapsed": true
            }
        }, 
        {
            "execution_count": null, 
            "outputs": [], 
            "cell_type": "code", 
            "source": "# try to connect\ntry:\n    conn = pymysql.connect(host=credentials['host'],\n                           port=int(credentials['port']),\n                           database=credentials['database'],\n                           user=credentials['username'], \n                           password=credentials['password'])\n    print \"Connection: OK\"\nexcept Exception as e:\n    print \"Connection: ERROR - {}\".format(e)", 
            "metadata": {}
        }, 
        {
            "execution_count": null, 
            "outputs": [], 
            "cell_type": "code", 
            "source": "# run a SQL statement\ntry:\n    with conn.cursor() as cursor:\n        cursor.execute(\"SELECT COUNT(*) FROM INFORMATION_SCHEMA.TABLES\",)\n        result = cursor.fetchone()\n        print 'Number of tables in this database: {}'.format(result[0])\nexcept Exception as e:\n    print \"Query: ERROR - {}\".format(e)  ", 
            "metadata": {}
        }, 
        {
            "execution_count": null, 
            "outputs": [], 
            "cell_type": "code", 
            "source": "conn.close() ", 
            "metadata": {
                "collapsed": true
            }
        }
    ], 
    "nbformat": 4
}