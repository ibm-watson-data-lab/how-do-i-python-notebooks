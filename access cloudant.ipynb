{
    "metadata": {
        "kernelspec": {
            "language": "python", 
            "display_name": "Python 2 with Spark 2.1", 
            "name": "python2-spark21"
        }, 
        "language_info": {
            "codemirror_mode": {
                "version": 2, 
                "name": "ipython"
            }, 
            "version": "2.7.11", 
            "name": "python", 
            "nbconvert_exporter": "python", 
            "mimetype": "text/x-python", 
            "pygments_lexer": "ipython2", 
            "file_extension": ".py"
        }
    }, 
    "nbformat_minor": 1, 
    "cells": [
        {
            "metadata": {}, 
            "cell_type": "markdown", 
            "source": "### Connecting to Cloudant"
        }, 
        {
            "execution_count": null, 
            "outputs": [], 
            "cell_type": "code", 
            "source": "# https://pypi.python.org/pypi/cloudant/\n#!pip install cloudant", 
            "metadata": {
                "collapsed": true
            }
        }, 
        {
            "execution_count": null, 
            "outputs": [], 
            "cell_type": "code", 
            "source": "# source code:   https://github.com/cloudant/python-cloudant\n# documentation: http://python-cloudant.readthedocs.io/en/latest/getting_started.html\nfrom cloudant.client import Cloudant", 
            "metadata": {
                "collapsed": true
            }
        }, 
        {
            "execution_count": null, 
            "outputs": [], 
            "cell_type": "code", 
            "source": "# TODO:\n# (1) add a Cloudant connection to this project\n# (2) use \"insert to code\" to insert Cloudant connection credentials into this cell\n# (3) rename the \"credentials_X\" variable to \"credentials\"\n", 
            "metadata": {
                "collapsed": true
            }
        }, 
        {
            "execution_count": null, 
            "outputs": [], 
            "cell_type": "code", 
            "source": "# try to connect\ntry:\n    url = credentials.get('url', credentials.get('custom_url'))\n    client = Cloudant(credentials['username'],\n                      credentials['password'],\n                      url=url, \n                      connect=True)\n    print \"Connection: OK\"\nexcept Exception as e:\n    print \"Connection: ERROR - {}\".format(e)", 
            "metadata": {}
        }, 
        {
            "execution_count": null, 
            "outputs": [], 
            "cell_type": "code", 
            "source": "# query Cloudant\ntry:\n    print 'Number of databases in this Cloudant instance: {}'.format(len(client.all_dbs()))\nexcept Exception as e:\n    print \"Query: ERROR - {}\".format(e)  ", 
            "metadata": {}
        }, 
        {
            "execution_count": null, 
            "outputs": [], 
            "cell_type": "code", 
            "source": "client.disconnect() ", 
            "metadata": {
                "collapsed": true
            }
        }
    ], 
    "nbformat": 4
}