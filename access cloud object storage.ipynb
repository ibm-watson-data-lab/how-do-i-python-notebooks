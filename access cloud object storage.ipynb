{
    "nbformat_minor": 1, 
    "cells": [
        {
            "cell_type": "markdown", 
            "metadata": {}, 
            "source": "### Connecting to Cloud Object Storage (S3)"
        }, 
        {
            "outputs": [], 
            "cell_type": "code", 
            "metadata": {}, 
            "source": "# https://pypi.python.org/pypi/ibmos2spark\n#!pip install ibmos2spark\n# https://pypi.python.org/pypi/ibm-cos-sdk\n#!pip install ibm-cos-sdk", 
            "execution_count": null
        }, 
        {
            "outputs": [], 
            "cell_type": "code", 
            "metadata": {}, 
            "source": "# source code:   https://github.com/ibm-watson-data-lab/ibmos2spark\n# documentation: https://github.com/ibm-watson-data-lab/ibmos2spark/tree/master/python#usage\nimport ibmos2spark\n\n# documentation: https://console.bluemix.net/docs/services/cloud-object-storage/libraries/python.html#python\nimport boto3\nfrom botocore.client import Config", 
            "execution_count": null
        }, 
        {
            "outputs": [], 
            "cell_type": "code", 
            "metadata": {
                "collapsed": true
            }, 
            "source": "# TODO:\n# (1) add a Cloudant connection to this project\n# (2) use \"insert to code\" to insert Cloudant connection credentials into this cell\n# (3) rename the \"credentials_X\" variable to \"credentials\"\n", 
            "execution_count": null
        }, 
        {
            "cell_type": "markdown", 
            "metadata": {}, 
            "source": "### Explore the Cloud Object Storage instance"
        }, 
        {
            "outputs": [], 
            "cell_type": "code", 
            "metadata": {}, 
            "source": "# connect to Cloud Object Storage\ncos = boto3.client('s3',\n                    ibm_api_key_id=credentials['api_key'],\n                    ibm_service_instance_id=credentials['resource_instance_id'],\n                    ibm_auth_endpoint=credentials['iam_url'],\n                    config=Config(signature_version='oauth'),\n                    endpoint_url=credentials['url'])", 
            "execution_count": null
        }, 
        {
            "outputs": [], 
            "cell_type": "code", 
            "metadata": {}, 
            "source": "# query Cloud Object Storage\nbucket_name = None\nobject_key = None\n\ntry:\n    # retrieve bucket list\n    buckets = cos.list_buckets()['Buckets']\n    print 'Number of buckets in this Cloud Object Storage instance: {}'.format(len(buckets))\n    \n    # find the first bucket that contains an object that's less than 1MB in size\n    for bucket in buckets:\n        try:\n            list_objects_response = cos.list_objects(Bucket=bucket['Name'])\n            if list_objects_response.get('Contents'):\n                for object in list_objects_response['Contents']:\n                    if object['Key'].endswith('.csv') and object['Size'] < 1024 * 1024:\n                        bucket_name = bucket['Name']\n                        object_key = object['Key']\n                        break\n        except Exception as nsb:                 \n           pass\n        finally:\n            if bucket_name is not None and object_key is not None:\n               print 'Bucket {} contains a small csv object named {}'.format(bucket_name, object_key)\n               break\n    \nexcept Exception as e:\n    print \"Query: ERROR - {}\".format(e)  \n        \n", 
            "execution_count": null
        }, 
        {
            "cell_type": "markdown", 
            "metadata": {}, 
            "source": "### Download an object from a bucket"
        }, 
        {
            "outputs": [], 
            "cell_type": "code", 
            "metadata": {}, 
            "source": "# try to connect\ntry:    \n    creds = {\n        'endpoint': credentials['url'],\n        'api_key': credentials['api_key'],\n        'service_id': credentials['resource_instance_id']\n    }\n\n    configuration_name = 'os_bluemix_cos_config'\n    \n    dcos = ibmos2spark.CloudObjectStorage(sc, \n                                          creds,\n                                          configuration_name=configuration_name,\n                                          cos_type='bluemix_cos')\n    print \"Connection: OK\"\n    \n    if bucket_name is not None and object_key is not None:\n        data_url = dcos.url(object_key, bucket_name)\n        data = sc.textFile(data_url)\n        print 'The file contains {} rows'.format(data.count())\n    \nexcept Exception as e:\n    print \"Connection: ERROR - {}\".format(e)", 
            "execution_count": null
        }, 
        {
            "outputs": [], 
            "cell_type": "code", 
            "metadata": {
                "collapsed": true
            }, 
            "source": "", 
            "execution_count": null
        }
    ], 
    "metadata": {
        "kernelspec": {
            "display_name": "Python 2 with Spark 2.1", 
            "name": "python2-spark21", 
            "language": "python"
        }, 
        "language_info": {
            "nbconvert_exporter": "python", 
            "file_extension": ".py", 
            "version": "2.7.11", 
            "name": "python", 
            "mimetype": "text/x-python", 
            "codemirror_mode": {
                "name": "ipython", 
                "version": 2
            }, 
            "pygments_lexer": "ipython2"
        }
    }, 
    "nbformat": 4
}